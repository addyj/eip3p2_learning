{
  "nbformat": 4,
  "nbformat_minor": 0,
  "metadata": {
    "colab": {
      "name": "RNN&LSTM_EIP3_Assignment_6.ipynb",
      "version": "0.3.2",
      "provenance": [],
      "collapsed_sections": []
    },
    "kernelspec": {
      "name": "python3",
      "display_name": "Python 3"
    },
    "accelerator": "GPU"
  },
  "cells": [
    {
      "cell_type": "markdown",
      "metadata": {
        "id": "ZtFHUZxEOPXQ",
        "colab_type": "text"
      },
      "source": [
        "## Aditya Jindal\n",
        "## Batch T6\n",
        "## Assignment6\n",
        "## Recurrent Neural Network & Long and Short Term Memory"
      ]
    },
    {
      "cell_type": "code",
      "metadata": {
        "id": "KkwXnw9OfHZl",
        "colab_type": "code",
        "colab": {
          "base_uri": "https://localhost:8080/",
          "height": 35
        },
        "outputId": "9269bff4-7b4d-45ce-d706-4474efce829f"
      },
      "source": [
        "# Importing Libraries\n",
        "\n",
        "import numpy\n",
        "from keras.models import Model\n",
        "from keras.layers import Input\n",
        "from keras.layers import Dense\n",
        "from keras.layers import Dropout\n",
        "from keras.layers import LSTM\n",
        "from keras.preprocessing.sequence import pad_sequences\n",
        "from keras.callbacks import ModelCheckpoint\n",
        "from keras.utils import np_utils"
      ],
      "execution_count": 2,
      "outputs": [
        {
          "output_type": "stream",
          "text": [
            "Using TensorFlow backend.\n"
          ],
          "name": "stderr"
        }
      ]
    },
    {
      "cell_type": "code",
      "metadata": {
        "id": "2a1-PPoP_bRX",
        "colab_type": "code",
        "outputId": "3604ff4c-2cc3-48d9-aebd-f1bcd439fa6d",
        "colab": {
          "base_uri": "https://localhost:8080/",
          "height": 129
        }
      },
      "source": [
        "#Mounting drive\n",
        "\n",
        "from google.colab import drive\n",
        "drive.mount('/content/gdrive', force_remount=True)\n"
      ],
      "execution_count": 3,
      "outputs": [
        {
          "output_type": "stream",
          "text": [
            "Go to this URL in a browser: https://accounts.google.com/o/oauth2/auth?client_id=947318989803-6bn6qk8qdgf4n4g3pfee6491hc0brc4i.apps.googleusercontent.com&redirect_uri=urn%3Aietf%3Awg%3Aoauth%3A2.0%3Aoob&scope=email%20https%3A%2F%2Fwww.googleapis.com%2Fauth%2Fdocs.test%20https%3A%2F%2Fwww.googleapis.com%2Fauth%2Fdrive%20https%3A%2F%2Fwww.googleapis.com%2Fauth%2Fdrive.photos.readonly%20https%3A%2F%2Fwww.googleapis.com%2Fauth%2Fpeopleapi.readonly&response_type=code\n",
            "\n",
            "Enter your authorization code:\n",
            "··········\n",
            "Mounted at /content/gdrive\n"
          ],
          "name": "stdout"
        }
      ]
    },
    {
      "cell_type": "code",
      "metadata": {
        "id": "CCSMPgP1pZRM",
        "colab_type": "code",
        "colab": {}
      },
      "source": [
        "# Load ascii text and covert to lowercase\n",
        "\n",
        "filename = \"/content/gdrive/My Drive/EIP3_Weights/sourceLSTMSeed.txt\"\n",
        "raw_text = open(filename).read()\n",
        "raw_text = raw_text.lower()\n",
        "raw_text = raw_text.replace('\\n',' ')"
      ],
      "execution_count": 0,
      "outputs": []
    },
    {
      "cell_type": "code",
      "metadata": {
        "id": "mEKOqxIKp43Q",
        "colab_type": "code",
        "outputId": "becff1e5-4af2-4cd9-f070-8361d1d3fa45",
        "colab": {
          "base_uri": "https://localhost:8080/",
          "height": 72
        }
      },
      "source": [
        "# Create mapping of unique chars to integers\n",
        "# Removed punctuation marks from source text\n",
        "chars = sorted(list(set(raw_text)))\n",
        "char_to_int = dict((c, i) for i, c in enumerate(chars))\n",
        "print(chars)\n",
        "n_chars = len(raw_text)\n",
        "n_vocab = len(chars)\n",
        "print(\"Total Characters: \", n_chars)\n",
        "print(\"Total Vocab: \", n_vocab)"
      ],
      "execution_count": 5,
      "outputs": [
        {
          "output_type": "stream",
          "text": [
            "[' ', '0', '3', 'a', 'b', 'c', 'd', 'e', 'f', 'g', 'h', 'i', 'j', 'k', 'l', 'm', 'n', 'o', 'p', 'q', 'r', 's', 't', 'u', 'v', 'w', 'x', 'y', 'z']\n",
            "Total Characters:  136183\n",
            "Total Vocab:  29\n"
          ],
          "name": "stdout"
        }
      ]
    },
    {
      "cell_type": "code",
      "metadata": {
        "id": "4iYDvHhZrf4e",
        "colab_type": "code",
        "outputId": "19275764-46e2-4b07-ab51-e42f4dfa98c9",
        "colab": {
          "base_uri": "https://localhost:8080/",
          "height": 127
        }
      },
      "source": [
        "# Prepare the dataset of input to output pairs encoded as integers\n",
        "# and using PrePadding on train data\n",
        "\n",
        "seq_length = 80\n",
        "dataX = []\n",
        "dataY = []\n",
        "for i in range(0, n_chars - seq_length, 1):\n",
        "\tseq_in = raw_text[i:i + seq_length]\n",
        "\tseq_out = raw_text[i + seq_length]\n",
        "\tdataX.append([char_to_int[char] for char in seq_in])\n",
        "\tdataY.append(char_to_int[seq_out])\n",
        "n_patterns = len(dataX)\n",
        "dataX = pad_sequences(dataX, maxlen = 100)\n",
        "print(\"Total Patterns: \", n_patterns)\n",
        "print(dataX[1])\n",
        "\n",
        "\n",
        "# import re\n",
        "# seq_length = 100\n",
        "# base_length = 10\n",
        "# words = re.split(r'\\n', raw_text)\n",
        "# dataX = []\n",
        "# dataY = []\n",
        "# for index, line in enumerate(words[:]):\n",
        "#   print(index)\n",
        "#   line_size = len(line)\n",
        "#   if(line_size>0):\n",
        "#     for i in range(0, line_size-base_length, 1):\n",
        "#       seq_in = line[i:i + base_length]\n",
        "#       seq_out = line[i + base_length]\n",
        "#       dataX.append([char_to_int[char] for char in seq_in])\n",
        "#       dataY.append(char_to_int[seq_out])\n",
        "# dataX = pad_sequences(dataX, maxlen = 100)\n",
        "# n_patterns = len(dataX)\n",
        "# print(\"Total Patterns: \", n_patterns)\n"
      ],
      "execution_count": 6,
      "outputs": [
        {
          "output_type": "stream",
          "text": [
            "Total Patterns:  136103\n",
            "[ 0  0  0  0  0  0  0  0  0  0  0  0  0  0  0  0  0  0  0  0 14 11  5  7\n",
            " 21  0  3  6 24  7 16 22 23 20  7 21  0 11 16  0 25 17 16  6  7 20 14  3\n",
            " 16  6  0  0 14  7 25 11 21  0  5  3 20 20 17 14 14  0  0 22 10  7  0 15\n",
            " 11 14 14  7 16 16 11 23 15  0  8 23 14  5 20 23 15  0  7  6 11 22 11 17\n",
            " 16  0  2  1]\n"
          ],
          "name": "stdout"
        }
      ]
    },
    {
      "cell_type": "code",
      "metadata": {
        "id": "juK1kdaZrpK-",
        "colab_type": "code",
        "colab": {}
      },
      "source": [
        "# Reshape X to be [samples, time steps, features]\n",
        "\n",
        "pattern_length = 100\n",
        "X = numpy.reshape(dataX, (n_patterns, pattern_length, 1))\n",
        "# Normalize\n",
        "X = X / float(n_vocab)\n",
        "# One hot encode the output variable\n",
        "y = np_utils.to_categorical(dataY)"
      ],
      "execution_count": 0,
      "outputs": []
    },
    {
      "cell_type": "code",
      "metadata": {
        "id": "CfE3Qik4rxon",
        "colab_type": "code",
        "outputId": "a3a169cc-7def-41f8-a5c2-242c1fa7da70",
        "colab": {
          "base_uri": "https://localhost:8080/",
          "height": 680
        }
      },
      "source": [
        "# Define the LSTM model\n",
        "input = Input(shape=(X.shape[1], X.shape[2]))\n",
        "\n",
        "DL1 = Dropout(0.1)(input)\n",
        "\n",
        "LSTM_L1 = LSTM(256, return_sequences=True)(DL1)\n",
        "\n",
        "DL2 = Dropout(0.1)(LSTM_L1)\n",
        "\n",
        "LSTM_L2 = LSTM(256)(DL2)\n",
        "\n",
        "FCL1 = Dense(y.shape[1], activation='softmax')(LSTM_L2)\n",
        "\n",
        "model = Model(inputs=[input], outputs=[FCL1])\n",
        "\n",
        "model.summary()\n",
        "\n",
        "model.compile(loss='categorical_crossentropy', optimizer='adam', metrics=['accuracy'])"
      ],
      "execution_count": 8,
      "outputs": [
        {
          "output_type": "stream",
          "text": [
            "WARNING: Logging before flag parsing goes to stderr.\n",
            "W0725 02:21:20.442817 139623993382784 deprecation_wrapper.py:119] From /usr/local/lib/python3.6/dist-packages/keras/backend/tensorflow_backend.py:74: The name tf.get_default_graph is deprecated. Please use tf.compat.v1.get_default_graph instead.\n",
            "\n",
            "W0725 02:21:20.481038 139623993382784 deprecation_wrapper.py:119] From /usr/local/lib/python3.6/dist-packages/keras/backend/tensorflow_backend.py:517: The name tf.placeholder is deprecated. Please use tf.compat.v1.placeholder instead.\n",
            "\n",
            "W0725 02:21:20.487679 139623993382784 deprecation_wrapper.py:119] From /usr/local/lib/python3.6/dist-packages/keras/backend/tensorflow_backend.py:133: The name tf.placeholder_with_default is deprecated. Please use tf.compat.v1.placeholder_with_default instead.\n",
            "\n",
            "W0725 02:21:20.497370 139623993382784 deprecation.py:506] From /usr/local/lib/python3.6/dist-packages/keras/backend/tensorflow_backend.py:3445: calling dropout (from tensorflow.python.ops.nn_ops) with keep_prob is deprecated and will be removed in a future version.\n",
            "Instructions for updating:\n",
            "Please use `rate` instead of `keep_prob`. Rate should be set to `rate = 1 - keep_prob`.\n",
            "W0725 02:21:20.513991 139623993382784 deprecation_wrapper.py:119] From /usr/local/lib/python3.6/dist-packages/keras/backend/tensorflow_backend.py:4138: The name tf.random_uniform is deprecated. Please use tf.random.uniform instead.\n",
            "\n",
            "W0725 02:21:21.094316 139623993382784 deprecation_wrapper.py:119] From /usr/local/lib/python3.6/dist-packages/keras/optimizers.py:790: The name tf.train.Optimizer is deprecated. Please use tf.compat.v1.train.Optimizer instead.\n",
            "\n",
            "W0725 02:21:21.115928 139623993382784 deprecation_wrapper.py:119] From /usr/local/lib/python3.6/dist-packages/keras/backend/tensorflow_backend.py:3295: The name tf.log is deprecated. Please use tf.math.log instead.\n",
            "\n"
          ],
          "name": "stderr"
        },
        {
          "output_type": "stream",
          "text": [
            "_________________________________________________________________\n",
            "Layer (type)                 Output Shape              Param #   \n",
            "=================================================================\n",
            "input_1 (InputLayer)         (None, 100, 1)            0         \n",
            "_________________________________________________________________\n",
            "dropout_1 (Dropout)          (None, 100, 1)            0         \n",
            "_________________________________________________________________\n",
            "lstm_1 (LSTM)                (None, 100, 256)          264192    \n",
            "_________________________________________________________________\n",
            "dropout_2 (Dropout)          (None, 100, 256)          0         \n",
            "_________________________________________________________________\n",
            "lstm_2 (LSTM)                (None, 256)               525312    \n",
            "_________________________________________________________________\n",
            "dense_1 (Dense)              (None, 29)                7453      \n",
            "=================================================================\n",
            "Total params: 796,957\n",
            "Trainable params: 796,957\n",
            "Non-trainable params: 0\n",
            "_________________________________________________________________\n"
          ],
          "name": "stdout"
        }
      ]
    },
    {
      "cell_type": "code",
      "metadata": {
        "id": "-z4itD0FxN2z",
        "colab_type": "code",
        "colab": {}
      },
      "source": [
        "# Define the checkpoint\n",
        "weights_path=\"/content/gdrive/My Drive/EIP3_Weights/weights-improvement-{epoch:02d}-{loss:.4f}.hdf5\"\n",
        "checkpoint = ModelCheckpoint(weights_path, monitor='loss', verbose=1, save_best_only=True, mode='min')\n",
        "callbacks_list = [checkpoint]"
      ],
      "execution_count": 0,
      "outputs": []
    },
    {
      "cell_type": "code",
      "metadata": {
        "id": "rVOkVVnpSOl6",
        "colab_type": "code",
        "outputId": "6d68916e-dd51-4b6c-8c78-41a7e554ad4a",
        "colab": {
          "base_uri": "https://localhost:8080/",
          "height": 1000
        }
      },
      "source": [
        "# Training the model  #Finished 50 epochs\n",
        "\n",
        "model.fit(X, y, epochs=50, batch_size=128, callbacks=callbacks_list)"
      ],
      "execution_count": 13,
      "outputs": [
        {
          "output_type": "stream",
          "text": [
            "W0724 11:43:12.444819 139809997686656 deprecation.py:323] From /usr/local/lib/python3.6/dist-packages/tensorflow/python/ops/math_grad.py:1250: add_dispatch_support.<locals>.wrapper (from tensorflow.python.ops.array_ops) is deprecated and will be removed in a future version.\n",
            "Instructions for updating:\n",
            "Use tf.where in 2.0, which has the same broadcast rule as np.where\n"
          ],
          "name": "stderr"
        },
        {
          "output_type": "stream",
          "text": [
            "Epoch 1/50\n",
            "136103/136103 [==============================] - 395s 3ms/step - loss: 2.7095 - acc: 0.2253\n",
            "\n",
            "Epoch 00001: loss improved from inf to 2.70954, saving model to /content/gdrive/My Drive/EIP3_Weights/weights-improvement-01-2.7095.hdf5\n",
            "Epoch 2/50\n",
            "136103/136103 [==============================] - 388s 3ms/step - loss: 2.4386 - acc: 0.2874\n",
            "\n",
            "Epoch 00002: loss improved from 2.70954 to 2.43864, saving model to /content/gdrive/My Drive/EIP3_Weights/weights-improvement-02-2.4386.hdf5\n",
            "Epoch 3/50\n",
            "136103/136103 [==============================] - 388s 3ms/step - loss: 2.2626 - acc: 0.3383\n",
            "\n",
            "Epoch 00003: loss improved from 2.43864 to 2.26264, saving model to /content/gdrive/My Drive/EIP3_Weights/weights-improvement-03-2.2626.hdf5\n",
            "Epoch 4/50\n",
            "136103/136103 [==============================] - 387s 3ms/step - loss: 2.1509 - acc: 0.3715\n",
            "\n",
            "Epoch 00004: loss improved from 2.26264 to 2.15089, saving model to /content/gdrive/My Drive/EIP3_Weights/weights-improvement-04-2.1509.hdf5\n",
            "Epoch 5/50\n",
            "136103/136103 [==============================] - 388s 3ms/step - loss: 2.0747 - acc: 0.3924\n",
            "\n",
            "Epoch 00005: loss improved from 2.15089 to 2.07466, saving model to /content/gdrive/My Drive/EIP3_Weights/weights-improvement-05-2.0747.hdf5\n",
            "Epoch 6/50\n",
            "136103/136103 [==============================] - 387s 3ms/step - loss: 2.0111 - acc: 0.4121\n",
            "\n",
            "Epoch 00006: loss improved from 2.07466 to 2.01112, saving model to /content/gdrive/My Drive/EIP3_Weights/weights-improvement-06-2.0111.hdf5\n",
            "Epoch 7/50\n",
            "136103/136103 [==============================] - 390s 3ms/step - loss: 1.9628 - acc: 0.4261\n",
            "\n",
            "Epoch 00007: loss improved from 2.01112 to 1.96283, saving model to /content/gdrive/My Drive/EIP3_Weights/weights-improvement-07-1.9628.hdf5\n",
            "Epoch 8/50\n",
            "136103/136103 [==============================] - 387s 3ms/step - loss: 1.9173 - acc: 0.4388\n",
            "\n",
            "Epoch 00008: loss improved from 1.96283 to 1.91730, saving model to /content/gdrive/My Drive/EIP3_Weights/weights-improvement-08-1.9173.hdf5\n",
            "Epoch 9/50\n",
            "136103/136103 [==============================] - 387s 3ms/step - loss: 1.8771 - acc: 0.4499\n",
            "\n",
            "Epoch 00009: loss improved from 1.91730 to 1.87708, saving model to /content/gdrive/My Drive/EIP3_Weights/weights-improvement-09-1.8771.hdf5\n",
            "Epoch 10/50\n",
            "136103/136103 [==============================] - 387s 3ms/step - loss: 1.8492 - acc: 0.4575\n",
            "\n",
            "Epoch 00010: loss improved from 1.87708 to 1.84916, saving model to /content/gdrive/My Drive/EIP3_Weights/weights-improvement-10-1.8492.hdf5\n",
            "Epoch 11/50\n",
            "136103/136103 [==============================] - 385s 3ms/step - loss: 1.8190 - acc: 0.4651\n",
            "\n",
            "Epoch 00011: loss improved from 1.84916 to 1.81900, saving model to /content/gdrive/My Drive/EIP3_Weights/weights-improvement-11-1.8190.hdf5\n",
            "Epoch 12/50\n",
            "136103/136103 [==============================] - 383s 3ms/step - loss: 1.7891 - acc: 0.4726\n",
            "\n",
            "Epoch 00012: loss improved from 1.81900 to 1.78905, saving model to /content/gdrive/My Drive/EIP3_Weights/weights-improvement-12-1.7891.hdf5\n",
            "Epoch 13/50\n",
            "136103/136103 [==============================] - 388s 3ms/step - loss: 1.7628 - acc: 0.4799\n",
            "\n",
            "Epoch 00013: loss improved from 1.78905 to 1.76278, saving model to /content/gdrive/My Drive/EIP3_Weights/weights-improvement-13-1.7628.hdf5\n",
            "Epoch 14/50\n",
            "136103/136103 [==============================] - 387s 3ms/step - loss: 1.7390 - acc: 0.4858\n",
            "\n",
            "Epoch 00014: loss improved from 1.76278 to 1.73899, saving model to /content/gdrive/My Drive/EIP3_Weights/weights-improvement-14-1.7390.hdf5\n",
            "Epoch 15/50\n",
            "136103/136103 [==============================] - 389s 3ms/step - loss: 1.7223 - acc: 0.4914\n",
            "\n",
            "Epoch 00015: loss improved from 1.73899 to 1.72226, saving model to /content/gdrive/My Drive/EIP3_Weights/weights-improvement-15-1.7223.hdf5\n",
            "Epoch 16/50\n",
            "136103/136103 [==============================] - 389s 3ms/step - loss: 1.7002 - acc: 0.4963\n",
            "\n",
            "Epoch 00016: loss improved from 1.72226 to 1.70019, saving model to /content/gdrive/My Drive/EIP3_Weights/weights-improvement-16-1.7002.hdf5\n",
            "Epoch 17/50\n",
            "136103/136103 [==============================] - 388s 3ms/step - loss: 1.6896 - acc: 0.4986\n",
            "\n",
            "Epoch 00017: loss improved from 1.70019 to 1.68957, saving model to /content/gdrive/My Drive/EIP3_Weights/weights-improvement-17-1.6896.hdf5\n",
            "Epoch 18/50\n",
            "136103/136103 [==============================] - 389s 3ms/step - loss: 1.6695 - acc: 0.5026\n",
            "\n",
            "Epoch 00018: loss improved from 1.68957 to 1.66950, saving model to /content/gdrive/My Drive/EIP3_Weights/weights-improvement-18-1.6695.hdf5\n",
            "Epoch 19/50\n",
            "136103/136103 [==============================] - 396s 3ms/step - loss: 1.6534 - acc: 0.5067\n",
            "\n",
            "Epoch 00019: loss improved from 1.66950 to 1.65341, saving model to /content/gdrive/My Drive/EIP3_Weights/weights-improvement-19-1.6534.hdf5\n",
            "Epoch 20/50\n",
            "136103/136103 [==============================] - 394s 3ms/step - loss: 1.6407 - acc: 0.5110\n",
            "\n",
            "Epoch 00020: loss improved from 1.65341 to 1.64067, saving model to /content/gdrive/My Drive/EIP3_Weights/weights-improvement-20-1.6407.hdf5\n",
            "Epoch 21/50\n",
            "136103/136103 [==============================] - 393s 3ms/step - loss: 1.6211 - acc: 0.5159\n",
            "\n",
            "Epoch 00021: loss improved from 1.64067 to 1.62105, saving model to /content/gdrive/My Drive/EIP3_Weights/weights-improvement-21-1.6211.hdf5\n",
            "Epoch 22/50\n",
            "136103/136103 [==============================] - 392s 3ms/step - loss: 1.6117 - acc: 0.5181\n",
            "\n",
            "Epoch 00022: loss improved from 1.62105 to 1.61170, saving model to /content/gdrive/My Drive/EIP3_Weights/weights-improvement-22-1.6117.hdf5\n",
            "Epoch 23/50\n",
            "136103/136103 [==============================] - 392s 3ms/step - loss: 1.6041 - acc: 0.5203\n",
            "\n",
            "Epoch 00023: loss improved from 1.61170 to 1.60405, saving model to /content/gdrive/My Drive/EIP3_Weights/weights-improvement-23-1.6041.hdf5\n",
            "Epoch 24/50\n",
            "136103/136103 [==============================] - 390s 3ms/step - loss: 1.5924 - acc: 0.5232\n",
            "\n",
            "Epoch 00024: loss improved from 1.60405 to 1.59242, saving model to /content/gdrive/My Drive/EIP3_Weights/weights-improvement-24-1.5924.hdf5\n",
            "Epoch 25/50\n",
            "136103/136103 [==============================] - 391s 3ms/step - loss: 1.5814 - acc: 0.5277\n",
            "\n",
            "Epoch 00025: loss improved from 1.59242 to 1.58137, saving model to /content/gdrive/My Drive/EIP3_Weights/weights-improvement-25-1.5814.hdf5\n",
            "Epoch 26/50\n",
            "136103/136103 [==============================] - 392s 3ms/step - loss: 1.5688 - acc: 0.5301\n",
            "\n",
            "Epoch 00026: loss improved from 1.58137 to 1.56880, saving model to /content/gdrive/My Drive/EIP3_Weights/weights-improvement-26-1.5688.hdf5\n",
            "Epoch 27/50\n",
            "136103/136103 [==============================] - 392s 3ms/step - loss: 1.5590 - acc: 0.5328\n",
            "\n",
            "Epoch 00027: loss improved from 1.56880 to 1.55900, saving model to /content/gdrive/My Drive/EIP3_Weights/weights-improvement-27-1.5590.hdf5\n",
            "Epoch 28/50\n",
            "136103/136103 [==============================] - 390s 3ms/step - loss: 1.5517 - acc: 0.5342\n",
            "\n",
            "Epoch 00028: loss improved from 1.55900 to 1.55171, saving model to /content/gdrive/My Drive/EIP3_Weights/weights-improvement-28-1.5517.hdf5\n",
            "Epoch 29/50\n",
            "136103/136103 [==============================] - 395s 3ms/step - loss: 1.5448 - acc: 0.5368\n",
            "\n",
            "Epoch 00029: loss improved from 1.55171 to 1.54483, saving model to /content/gdrive/My Drive/EIP3_Weights/weights-improvement-29-1.5448.hdf5\n",
            "Epoch 30/50\n",
            "136103/136103 [==============================] - 392s 3ms/step - loss: 1.5362 - acc: 0.5397\n",
            "\n",
            "Epoch 00030: loss improved from 1.54483 to 1.53617, saving model to /content/gdrive/My Drive/EIP3_Weights/weights-improvement-30-1.5362.hdf5\n",
            "Epoch 31/50\n",
            "136103/136103 [==============================] - 393s 3ms/step - loss: 1.5248 - acc: 0.5413\n",
            "\n",
            "Epoch 00031: loss improved from 1.53617 to 1.52483, saving model to /content/gdrive/My Drive/EIP3_Weights/weights-improvement-31-1.5248.hdf5\n",
            "Epoch 32/50\n",
            "136103/136103 [==============================] - 395s 3ms/step - loss: 1.5195 - acc: 0.5429\n",
            "\n",
            "Epoch 00032: loss improved from 1.52483 to 1.51954, saving model to /content/gdrive/My Drive/EIP3_Weights/weights-improvement-32-1.5195.hdf5\n",
            "Epoch 33/50\n",
            "136103/136103 [==============================] - 393s 3ms/step - loss: 1.5116 - acc: 0.5451\n",
            "\n",
            "Epoch 00033: loss improved from 1.51954 to 1.51164, saving model to /content/gdrive/My Drive/EIP3_Weights/weights-improvement-33-1.5116.hdf5\n",
            "Epoch 34/50\n",
            "136103/136103 [==============================] - 394s 3ms/step - loss: 1.5045 - acc: 0.5468\n",
            "\n",
            "Epoch 00034: loss improved from 1.51164 to 1.50448, saving model to /content/gdrive/My Drive/EIP3_Weights/weights-improvement-34-1.5045.hdf5\n",
            "Epoch 35/50\n",
            "136103/136103 [==============================] - 396s 3ms/step - loss: 1.5010 - acc: 0.5470\n",
            "\n",
            "Epoch 00035: loss improved from 1.50448 to 1.50104, saving model to /content/gdrive/My Drive/EIP3_Weights/weights-improvement-35-1.5010.hdf5\n",
            "Epoch 36/50\n",
            "136103/136103 [==============================] - 396s 3ms/step - loss: 1.4854 - acc: 0.5512\n",
            "\n",
            "Epoch 00036: loss improved from 1.50104 to 1.48541, saving model to /content/gdrive/My Drive/EIP3_Weights/weights-improvement-36-1.4854.hdf5\n",
            "Epoch 37/50\n",
            "136103/136103 [==============================] - 394s 3ms/step - loss: 1.4908 - acc: 0.5509\n",
            "\n",
            "Epoch 00037: loss did not improve from 1.48541\n",
            "Epoch 38/50\n",
            "136103/136103 [==============================] - 392s 3ms/step - loss: 1.4770 - acc: 0.5534\n",
            "\n",
            "Epoch 00038: loss improved from 1.48541 to 1.47703, saving model to /content/gdrive/My Drive/EIP3_Weights/weights-improvement-38-1.4770.hdf5\n",
            "Epoch 39/50\n",
            "136103/136103 [==============================] - 388s 3ms/step - loss: 1.4710 - acc: 0.5559\n",
            "\n",
            "Epoch 00039: loss improved from 1.47703 to 1.47105, saving model to /content/gdrive/My Drive/EIP3_Weights/weights-improvement-39-1.4710.hdf5\n",
            "Epoch 40/50\n",
            "136103/136103 [==============================] - 397s 3ms/step - loss: 1.4678 - acc: 0.5566\n",
            "\n",
            "Epoch 00040: loss improved from 1.47105 to 1.46778, saving model to /content/gdrive/My Drive/EIP3_Weights/weights-improvement-40-1.4678.hdf5\n",
            "Epoch 41/50\n",
            "136103/136103 [==============================] - 394s 3ms/step - loss: 1.4640 - acc: 0.5583\n",
            "\n",
            "Epoch 00041: loss improved from 1.46778 to 1.46403, saving model to /content/gdrive/My Drive/EIP3_Weights/weights-improvement-41-1.4640.hdf5\n",
            "Epoch 42/50\n",
            "136103/136103 [==============================] - 395s 3ms/step - loss: 1.4550 - acc: 0.5608\n",
            "\n",
            "Epoch 00042: loss improved from 1.46403 to 1.45503, saving model to /content/gdrive/My Drive/EIP3_Weights/weights-improvement-42-1.4550.hdf5\n",
            "Epoch 43/50\n",
            "136103/136103 [==============================] - 396s 3ms/step - loss: 1.4517 - acc: 0.5591\n",
            "\n",
            "Epoch 00043: loss improved from 1.45503 to 1.45173, saving model to /content/gdrive/My Drive/EIP3_Weights/weights-improvement-43-1.4517.hdf5\n",
            "Epoch 44/50\n",
            "136103/136103 [==============================] - 395s 3ms/step - loss: 1.4434 - acc: 0.5636\n",
            "\n",
            "Epoch 00044: loss improved from 1.45173 to 1.44342, saving model to /content/gdrive/My Drive/EIP3_Weights/weights-improvement-44-1.4434.hdf5\n",
            "Epoch 45/50\n",
            "136103/136103 [==============================] - 396s 3ms/step - loss: 1.4428 - acc: 0.5633\n",
            "\n",
            "Epoch 00045: loss improved from 1.44342 to 1.44279, saving model to /content/gdrive/My Drive/EIP3_Weights/weights-improvement-45-1.4428.hdf5\n",
            "Epoch 46/50\n",
            "136103/136103 [==============================] - 395s 3ms/step - loss: 1.4358 - acc: 0.5655\n",
            "\n",
            "Epoch 00046: loss improved from 1.44279 to 1.43584, saving model to /content/gdrive/My Drive/EIP3_Weights/weights-improvement-46-1.4358.hdf5\n",
            "Epoch 47/50\n",
            "136103/136103 [==============================] - 396s 3ms/step - loss: 1.4348 - acc: 0.5660\n",
            "\n",
            "Epoch 00047: loss improved from 1.43584 to 1.43477, saving model to /content/gdrive/My Drive/EIP3_Weights/weights-improvement-47-1.4348.hdf5\n",
            "Epoch 48/50\n",
            "136103/136103 [==============================] - 396s 3ms/step - loss: 1.4293 - acc: 0.5668\n",
            "\n",
            "Epoch 00048: loss improved from 1.43477 to 1.42932, saving model to /content/gdrive/My Drive/EIP3_Weights/weights-improvement-48-1.4293.hdf5\n",
            "Epoch 49/50\n",
            "136103/136103 [==============================] - 397s 3ms/step - loss: 1.4282 - acc: 0.5674\n",
            "\n",
            "Epoch 00049: loss improved from 1.42932 to 1.42820, saving model to /content/gdrive/My Drive/EIP3_Weights/weights-improvement-49-1.4282.hdf5\n",
            "Epoch 50/50\n",
            "136103/136103 [==============================] - 396s 3ms/step - loss: 1.4225 - acc: 0.5692\n",
            "\n",
            "Epoch 00050: loss improved from 1.42820 to 1.42248, saving model to /content/gdrive/My Drive/EIP3_Weights/weights-improvement-50-1.4225.hdf5\n"
          ],
          "name": "stdout"
        },
        {
          "output_type": "execute_result",
          "data": {
            "text/plain": [
              "<keras.callbacks.History at 0x7f27ea19d208>"
            ]
          },
          "metadata": {
            "tags": []
          },
          "execution_count": 13
        }
      ]
    },
    {
      "cell_type": "code",
      "metadata": {
        "id": "gN-r_AmrCQNV",
        "colab_type": "code",
        "colab": {}
      },
      "source": [
        "# Load the network weights\n",
        "load_wt = \"/content/gdrive/My Drive/EIP3_Weights/weights-improvement-50-1.4225.hdf5\"\n",
        "model.load_weights(load_wt)\n",
        "model.compile(loss='categorical_crossentropy', optimizer='adam', metrics=['accuracy'])"
      ],
      "execution_count": 0,
      "outputs": []
    },
    {
      "cell_type": "code",
      "metadata": {
        "id": "LgPpV0tSlKiY",
        "colab_type": "code",
        "colab": {
          "base_uri": "https://localhost:8080/",
          "height": 1000
        },
        "outputId": "0707f5a8-1867-4f1b-ae12-85db971c6e2d"
      },
      "source": [
        "# Training the model #Finished 25 epochs\n",
        "\n",
        "model.fit(X, y, epochs=50, batch_size=128, callbacks=callbacks_list)"
      ],
      "execution_count": 0,
      "outputs": [
        {
          "output_type": "stream",
          "text": [
            "Epoch 1/50\n",
            "136103/136103 [==============================] - 405s 3ms/step - loss: 1.4172 - acc: 0.5713\n",
            "\n",
            "Epoch 00001: loss improved from 1.42248 to 1.41718, saving model to /content/gdrive/My Drive/EIP3_Weights/weights-improvement-01-1.4172.hdf5\n",
            "Epoch 2/50\n",
            "136103/136103 [==============================] - 403s 3ms/step - loss: 1.4129 - acc: 0.5717\n",
            "\n",
            "Epoch 00002: loss improved from 1.41718 to 1.41288, saving model to /content/gdrive/My Drive/EIP3_Weights/weights-improvement-02-1.4129.hdf5\n",
            "Epoch 3/50\n",
            "136103/136103 [==============================] - 403s 3ms/step - loss: 1.4057 - acc: 0.5737\n",
            "\n",
            "Epoch 00003: loss improved from 1.41288 to 1.40573, saving model to /content/gdrive/My Drive/EIP3_Weights/weights-improvement-03-1.4057.hdf5\n",
            "Epoch 4/50\n",
            "136103/136103 [==============================] - 403s 3ms/step - loss: 1.4057 - acc: 0.5736\n",
            "\n",
            "Epoch 00004: loss improved from 1.40573 to 1.40568, saving model to /content/gdrive/My Drive/EIP3_Weights/weights-improvement-04-1.4057.hdf5\n",
            "Epoch 5/50\n",
            "136103/136103 [==============================] - 402s 3ms/step - loss: 1.3974 - acc: 0.5758\n",
            "\n",
            "Epoch 00005: loss improved from 1.40568 to 1.39742, saving model to /content/gdrive/My Drive/EIP3_Weights/weights-improvement-05-1.3974.hdf5\n",
            "Epoch 6/50\n",
            "136103/136103 [==============================] - 402s 3ms/step - loss: 1.3992 - acc: 0.5746\n",
            "\n",
            "Epoch 00006: loss did not improve from 1.39742\n",
            "Epoch 7/50\n",
            "136103/136103 [==============================] - 402s 3ms/step - loss: 1.3942 - acc: 0.5759\n",
            "\n",
            "Epoch 00007: loss improved from 1.39742 to 1.39415, saving model to /content/gdrive/My Drive/EIP3_Weights/weights-improvement-07-1.3942.hdf5\n",
            "Epoch 8/50\n",
            "136103/136103 [==============================] - 402s 3ms/step - loss: 1.3913 - acc: 0.5772\n",
            "\n",
            "Epoch 00008: loss improved from 1.39415 to 1.39132, saving model to /content/gdrive/My Drive/EIP3_Weights/weights-improvement-08-1.3913.hdf5\n",
            "Epoch 9/50\n",
            "136103/136103 [==============================] - 403s 3ms/step - loss: 1.3889 - acc: 0.5787\n",
            "\n",
            "Epoch 00009: loss improved from 1.39132 to 1.38891, saving model to /content/gdrive/My Drive/EIP3_Weights/weights-improvement-09-1.3889.hdf5\n",
            "Epoch 10/50\n",
            "136103/136103 [==============================] - 403s 3ms/step - loss: 1.3819 - acc: 0.5795\n",
            "\n",
            "Epoch 00010: loss improved from 1.38891 to 1.38186, saving model to /content/gdrive/My Drive/EIP3_Weights/weights-improvement-10-1.3819.hdf5\n",
            "Epoch 11/50\n",
            "136103/136103 [==============================] - 400s 3ms/step - loss: 1.3836 - acc: 0.5791\n",
            "\n",
            "Epoch 00011: loss did not improve from 1.38186\n",
            "Epoch 12/50\n",
            "136103/136103 [==============================] - 400s 3ms/step - loss: 1.3771 - acc: 0.5815\n",
            "\n",
            "Epoch 00012: loss improved from 1.38186 to 1.37707, saving model to /content/gdrive/My Drive/EIP3_Weights/weights-improvement-12-1.3771.hdf5\n",
            "Epoch 13/50\n",
            "136103/136103 [==============================] - 402s 3ms/step - loss: 1.3712 - acc: 0.5822\n",
            "\n",
            "Epoch 00013: loss improved from 1.37707 to 1.37122, saving model to /content/gdrive/My Drive/EIP3_Weights/weights-improvement-13-1.3712.hdf5\n",
            "Epoch 14/50\n",
            "136103/136103 [==============================] - 401s 3ms/step - loss: 1.3727 - acc: 0.5817\n",
            "\n",
            "Epoch 00014: loss did not improve from 1.37122\n",
            "Epoch 15/50\n",
            "136103/136103 [==============================] - 402s 3ms/step - loss: 1.3729 - acc: 0.5819\n",
            "\n",
            "Epoch 00015: loss did not improve from 1.37122\n",
            "Epoch 16/50\n",
            "136103/136103 [==============================] - 400s 3ms/step - loss: 1.3650 - acc: 0.5846\n",
            "\n",
            "Epoch 00016: loss improved from 1.37122 to 1.36496, saving model to /content/gdrive/My Drive/EIP3_Weights/weights-improvement-16-1.3650.hdf5\n",
            "Epoch 17/50\n",
            "136103/136103 [==============================] - 403s 3ms/step - loss: 1.3672 - acc: 0.5851\n",
            "\n",
            "Epoch 00017: loss did not improve from 1.36496\n",
            "Epoch 18/50\n",
            "136103/136103 [==============================] - 404s 3ms/step - loss: 1.3609 - acc: 0.5855\n",
            "\n",
            "Epoch 00018: loss improved from 1.36496 to 1.36089, saving model to /content/gdrive/My Drive/EIP3_Weights/weights-improvement-18-1.3609.hdf5\n",
            "Epoch 19/50\n",
            "136103/136103 [==============================] - 403s 3ms/step - loss: 1.3593 - acc: 0.5858\n",
            "\n",
            "Epoch 00019: loss improved from 1.36089 to 1.35930, saving model to /content/gdrive/My Drive/EIP3_Weights/weights-improvement-19-1.3593.hdf5\n",
            "Epoch 20/50\n",
            "136103/136103 [==============================] - 403s 3ms/step - loss: 1.3502 - acc: 0.5885\n",
            "\n",
            "Epoch 00020: loss improved from 1.35930 to 1.35018, saving model to /content/gdrive/My Drive/EIP3_Weights/weights-improvement-20-1.3502.hdf5\n",
            "Epoch 21/50\n",
            "136103/136103 [==============================] - 404s 3ms/step - loss: 1.3556 - acc: 0.5862\n",
            "\n",
            "Epoch 00021: loss did not improve from 1.35018\n",
            "Epoch 22/50\n",
            "136103/136103 [==============================] - 403s 3ms/step - loss: 1.3488 - acc: 0.5888\n",
            "\n",
            "Epoch 00022: loss improved from 1.35018 to 1.34877, saving model to /content/gdrive/My Drive/EIP3_Weights/weights-improvement-22-1.3488.hdf5\n",
            "Epoch 23/50\n",
            "136103/136103 [==============================] - 404s 3ms/step - loss: 1.3456 - acc: 0.5896\n",
            "\n",
            "Epoch 00023: loss improved from 1.34877 to 1.34556, saving model to /content/gdrive/My Drive/EIP3_Weights/weights-improvement-23-1.3456.hdf5\n",
            "Epoch 24/50\n",
            "136103/136103 [==============================] - 404s 3ms/step - loss: 1.3483 - acc: 0.5877\n",
            "\n",
            "Epoch 00024: loss did not improve from 1.34556\n",
            "Epoch 25/50\n",
            "136103/136103 [==============================] - 403s 3ms/step - loss: 1.3421 - acc: 0.5909\n",
            "\n",
            "Epoch 00025: loss improved from 1.34556 to 1.34215, saving model to /content/gdrive/My Drive/EIP3_Weights/weights-improvement-25-1.3421.hdf5\n",
            "Epoch 26/50\n",
            " 46080/136103 [=========>....................] - ETA: 4:26 - loss: 1.3376 - acc: 0.5918"
          ],
          "name": "stdout"
        }
      ]
    },
    {
      "cell_type": "code",
      "metadata": {
        "id": "X_0V8zwR7KfW",
        "colab_type": "code",
        "colab": {}
      },
      "source": [
        "# Load the network weights\n",
        "load_wt = \"/content/gdrive/My Drive/EIP3_Weights/weights-improvement-23-1.3456.hdf5\"\n",
        "model.load_weights(load_wt)\n",
        "model.compile(loss='categorical_crossentropy', optimizer='adam', metrics=['accuracy'])"
      ],
      "execution_count": 0,
      "outputs": []
    },
    {
      "cell_type": "code",
      "metadata": {
        "id": "eNoWtzGR7-ph",
        "colab_type": "code",
        "colab": {
          "base_uri": "https://localhost:8080/",
          "height": 1000
        },
        "outputId": "f54ae226-0d40-4e02-f210-ab91737f50d9"
      },
      "source": [
        "# Training the model #Finished 25 epochs\n",
        "\n",
        "model.fit(X, y, epochs=25, batch_size=128, callbacks=callbacks_list)"
      ],
      "execution_count": 11,
      "outputs": [
        {
          "output_type": "stream",
          "text": [
            "W0725 02:22:54.023031 139623993382784 deprecation.py:323] From /usr/local/lib/python3.6/dist-packages/tensorflow/python/ops/math_grad.py:1250: add_dispatch_support.<locals>.wrapper (from tensorflow.python.ops.array_ops) is deprecated and will be removed in a future version.\n",
            "Instructions for updating:\n",
            "Use tf.where in 2.0, which has the same broadcast rule as np.where\n"
          ],
          "name": "stderr"
        },
        {
          "output_type": "stream",
          "text": [
            "Epoch 1/25\n",
            "136103/136103 [==============================] - 289s 2ms/step - loss: 1.3464 - acc: 0.5882\n",
            "\n",
            "Epoch 00001: loss improved from inf to 1.34637, saving model to /content/gdrive/My Drive/EIP3_Weights/weights-improvement-01-1.3464.hdf5\n",
            "Epoch 2/25\n",
            "136103/136103 [==============================] - 289s 2ms/step - loss: 1.3414 - acc: 0.5901\n",
            "\n",
            "Epoch 00002: loss improved from 1.34637 to 1.34141, saving model to /content/gdrive/My Drive/EIP3_Weights/weights-improvement-02-1.3414.hdf5\n",
            "Epoch 3/25\n",
            "136103/136103 [==============================] - 288s 2ms/step - loss: 1.3389 - acc: 0.5908\n",
            "\n",
            "Epoch 00003: loss improved from 1.34141 to 1.33893, saving model to /content/gdrive/My Drive/EIP3_Weights/weights-improvement-03-1.3389.hdf5\n",
            "Epoch 4/25\n",
            "136103/136103 [==============================] - 286s 2ms/step - loss: 1.3391 - acc: 0.5904\n",
            "\n",
            "Epoch 00004: loss did not improve from 1.33893\n",
            "Epoch 5/25\n",
            "136103/136103 [==============================] - 281s 2ms/step - loss: 1.3349 - acc: 0.5916\n",
            "\n",
            "Epoch 00005: loss improved from 1.33893 to 1.33488, saving model to /content/gdrive/My Drive/EIP3_Weights/weights-improvement-05-1.3349.hdf5\n",
            "Epoch 6/25\n",
            "136103/136103 [==============================] - 282s 2ms/step - loss: 1.3344 - acc: 0.5933\n",
            "\n",
            "Epoch 00006: loss improved from 1.33488 to 1.33439, saving model to /content/gdrive/My Drive/EIP3_Weights/weights-improvement-06-1.3344.hdf5\n",
            "Epoch 7/25\n",
            "136103/136103 [==============================] - 282s 2ms/step - loss: 1.3309 - acc: 0.5932\n",
            "\n",
            "Epoch 00007: loss improved from 1.33439 to 1.33089, saving model to /content/gdrive/My Drive/EIP3_Weights/weights-improvement-07-1.3309.hdf5\n",
            "Epoch 8/25\n",
            "136103/136103 [==============================] - 285s 2ms/step - loss: 1.3281 - acc: 0.5944\n",
            "\n",
            "Epoch 00008: loss improved from 1.33089 to 1.32809, saving model to /content/gdrive/My Drive/EIP3_Weights/weights-improvement-08-1.3281.hdf5\n",
            "Epoch 9/25\n",
            "136103/136103 [==============================] - 285s 2ms/step - loss: 1.3283 - acc: 0.5958\n",
            "\n",
            "Epoch 00009: loss did not improve from 1.32809\n",
            "Epoch 10/25\n",
            "136103/136103 [==============================] - 283s 2ms/step - loss: 1.3238 - acc: 0.5949\n",
            "\n",
            "Epoch 00010: loss improved from 1.32809 to 1.32377, saving model to /content/gdrive/My Drive/EIP3_Weights/weights-improvement-10-1.3238.hdf5\n",
            "Epoch 11/25\n",
            "136103/136103 [==============================] - 285s 2ms/step - loss: 1.3198 - acc: 0.5950\n",
            "\n",
            "Epoch 00011: loss improved from 1.32377 to 1.31983, saving model to /content/gdrive/My Drive/EIP3_Weights/weights-improvement-11-1.3198.hdf5\n",
            "Epoch 12/25\n",
            "136103/136103 [==============================] - 284s 2ms/step - loss: 1.3213 - acc: 0.5967\n",
            "\n",
            "Epoch 00012: loss did not improve from 1.31983\n",
            "Epoch 13/25\n",
            "136103/136103 [==============================] - 284s 2ms/step - loss: 1.3093 - acc: 0.5994\n",
            "\n",
            "Epoch 00013: loss improved from 1.31983 to 1.30925, saving model to /content/gdrive/My Drive/EIP3_Weights/weights-improvement-13-1.3093.hdf5\n",
            "Epoch 14/25\n",
            "136103/136103 [==============================] - 284s 2ms/step - loss: 1.3160 - acc: 0.5978\n",
            "\n",
            "Epoch 00014: loss did not improve from 1.30925\n",
            "Epoch 15/25\n",
            "136103/136103 [==============================] - 282s 2ms/step - loss: 1.3110 - acc: 0.5987\n",
            "\n",
            "Epoch 00015: loss did not improve from 1.30925\n",
            "Epoch 16/25\n",
            "136103/136103 [==============================] - 284s 2ms/step - loss: 1.3082 - acc: 0.5994\n",
            "\n",
            "Epoch 00016: loss improved from 1.30925 to 1.30819, saving model to /content/gdrive/My Drive/EIP3_Weights/weights-improvement-16-1.3082.hdf5\n",
            "Epoch 17/25\n",
            "136103/136103 [==============================] - 283s 2ms/step - loss: 1.3089 - acc: 0.5996\n",
            "\n",
            "Epoch 00017: loss did not improve from 1.30819\n",
            "Epoch 18/25\n",
            "136103/136103 [==============================] - 281s 2ms/step - loss: 1.3094 - acc: 0.5981\n",
            "\n",
            "Epoch 00018: loss did not improve from 1.30819\n",
            "Epoch 19/25\n",
            "136103/136103 [==============================] - 279s 2ms/step - loss: 1.3029 - acc: 0.6013\n",
            "\n",
            "Epoch 00019: loss improved from 1.30819 to 1.30292, saving model to /content/gdrive/My Drive/EIP3_Weights/weights-improvement-19-1.3029.hdf5\n",
            "Epoch 20/25\n",
            "136103/136103 [==============================] - 279s 2ms/step - loss: 1.3083 - acc: 0.6010\n",
            "\n",
            "Epoch 00020: loss did not improve from 1.30292\n",
            "Epoch 21/25\n",
            "136103/136103 [==============================] - 277s 2ms/step - loss: 1.3012 - acc: 0.6008\n",
            "\n",
            "Epoch 00021: loss improved from 1.30292 to 1.30121, saving model to /content/gdrive/My Drive/EIP3_Weights/weights-improvement-21-1.3012.hdf5\n",
            "Epoch 22/25\n",
            "136103/136103 [==============================] - 280s 2ms/step - loss: 1.2996 - acc: 0.6019\n",
            "\n",
            "Epoch 00022: loss improved from 1.30121 to 1.29958, saving model to /content/gdrive/My Drive/EIP3_Weights/weights-improvement-22-1.2996.hdf5\n",
            "Epoch 23/25\n",
            "136103/136103 [==============================] - 283s 2ms/step - loss: 1.3023 - acc: 0.6015\n",
            "\n",
            "Epoch 00023: loss did not improve from 1.29958\n",
            "Epoch 24/25\n",
            "136103/136103 [==============================] - 283s 2ms/step - loss: 1.2937 - acc: 0.6036\n",
            "\n",
            "Epoch 00024: loss improved from 1.29958 to 1.29365, saving model to /content/gdrive/My Drive/EIP3_Weights/weights-improvement-24-1.2937.hdf5\n",
            "Epoch 25/25\n",
            "136103/136103 [==============================] - 284s 2ms/step - loss: 1.2981 - acc: 0.6022\n",
            "\n",
            "Epoch 00025: loss did not improve from 1.29365\n"
          ],
          "name": "stdout"
        },
        {
          "output_type": "execute_result",
          "data": {
            "text/plain": [
              "<keras.callbacks.History at 0x7efc9b620eb8>"
            ]
          },
          "metadata": {
            "tags": []
          },
          "execution_count": 11
        }
      ]
    },
    {
      "cell_type": "code",
      "metadata": {
        "id": "CXi_rrWbVPKo",
        "colab_type": "code",
        "colab": {}
      },
      "source": [
        "# Load the network weights\n",
        "load_wt = \"/content/gdrive/My Drive/EIP3_Weights/weights-improvement-24-1.2937.hdf5\"\n",
        "model.load_weights(load_wt)\n",
        "model.compile(loss='categorical_crossentropy', optimizer='adam', metrics=['accuracy'])"
      ],
      "execution_count": 0,
      "outputs": []
    },
    {
      "cell_type": "code",
      "metadata": {
        "id": "ip1OXmeYyi-P",
        "colab_type": "code",
        "colab": {}
      },
      "source": [
        "# Reverse mapping that we can use to convert the integers back to characters \n",
        "int_to_char = dict((i, c) for i, c in enumerate(chars))"
      ],
      "execution_count": 0,
      "outputs": []
    },
    {
      "cell_type": "code",
      "metadata": {
        "id": "p7SdqLtHy2jf",
        "colab_type": "code",
        "outputId": "3246878c-9be0-4f2d-f137-2a118b84ca7f",
        "colab": {
          "base_uri": "https://localhost:8080/",
          "height": 219
        }
      },
      "source": [
        "# Pick a random seed\n",
        "start = numpy.random.randint(0, len(dataX)-1)\n",
        "pattern = dataX[start]\n",
        "pred_result = []\n",
        "print(\"Seed:\")\n",
        "seq_in = ''.join([int_to_char[value] for value in pattern])\n",
        "print(\"\\\"\", seq_in, \"\\\"\")\n",
        "# Generate 500 characters\n",
        "for i in range(500):\n",
        "  x = numpy.reshape(pattern, (1, len(pattern), 1))\n",
        "  x = x / float(n_vocab)\n",
        "  prediction = model.predict(x, verbose=0)\n",
        "  index = numpy.argmax(prediction)\n",
        "  result = int_to_char[index]\n",
        "  pred_result = numpy.append(pred_result, result)\n",
        "  if(i%100==0):\n",
        "    pred_result = numpy.append(pred_result, \"\\n\")\n",
        "  pattern = numpy.append(pattern, index)\n",
        "  pattern = pattern[1:len(pattern)]\n",
        "print(\"Generated Text:\\n\\\"\", ''.join(pred_result), \"\\\"\")\n",
        "print(\"\\nDone.\")"
      ],
      "execution_count": 16,
      "outputs": [
        {
          "output_type": "stream",
          "text": [
            "Seed:\n",
            "\"                     ind that she knew the name of nearly everything there thats the judge she said t \"\n",
            "Generated Text:\n",
            "\" u\n",
            "itted alice anl e waleny temarkln  tepaied oo  sioly anice dould ho  siog  tie hoan  teparking anice\n",
            " anl e wo hrod hor separk anice anl e wane tepain t ie walg tuitted alice anl e walenned anlce anice\n",
            " vhought anice anl e whos ht taid tuitted anice anl e whos hot serpent he rnate whe mitt and thaling\n",
            " atpealing and the had nearnt poly teparks anl tie havter whos ht  ase tepained tuitlng teally taid \n",
            "tuitted anice anl e whos hot serpee  tespent ier anice anl e wnder tholied ier anice sepained tathe \"\n",
            "\n",
            "Done.\n"
          ],
          "name": "stdout"
        }
      ]
    },
    {
      "cell_type": "code",
      "metadata": {
        "id": "eJYu4g5VzqJf",
        "colab_type": "code",
        "colab": {}
      },
      "source": [
        ""
      ],
      "execution_count": 0,
      "outputs": []
    }
  ]
}